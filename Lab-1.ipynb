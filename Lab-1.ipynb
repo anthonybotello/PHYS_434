{
 "cells": [
  {
   "cell_type": "code",
   "execution_count": 1,
   "metadata": {},
   "outputs": [],
   "source": [
    "%matplotlib inline\n",
    "import numpy as np\n",
    "import pandas as pd\n",
    "\n",
    "import matplotlib\n",
    "import matplotlib.pyplot as plt\n",
    "\n",
    "import scipy\n",
    "from scipy import stats\n",
    "from scipy import special\n",
    "\n",
    "plt.rcParams['figure.figsize'] = (20,15)"
   ]
  },
  {
   "cell_type": "markdown",
   "metadata": {},
   "source": [
    "# A little statistics"
   ]
  },
  {
   "cell_type": "markdown",
   "metadata": {},
   "source": [
    "## 1.B"
   ]
  },
  {
   "cell_type": "code",
   "execution_count": 2,
   "metadata": {},
   "outputs": [
    {
     "data": {
      "text/html": [
       "<div>\n",
       "<style scoped>\n",
       "    .dataframe tbody tr th:only-of-type {\n",
       "        vertical-align: middle;\n",
       "    }\n",
       "\n",
       "    .dataframe tbody tr th {\n",
       "        vertical-align: top;\n",
       "    }\n",
       "\n",
       "    .dataframe thead th {\n",
       "        text-align: right;\n",
       "    }\n",
       "</style>\n",
       "<table border=\"1\" class=\"dataframe\">\n",
       "  <thead>\n",
       "    <tr style=\"text-align: right;\">\n",
       "      <th></th>\n",
       "      <th>X$\\sigma$</th>\n",
       "      <th>Probability</th>\n",
       "    </tr>\n",
       "  </thead>\n",
       "  <tbody>\n",
       "    <tr>\n",
       "      <td>0</td>\n",
       "      <td>0.0</td>\n",
       "      <td>0.500000</td>\n",
       "    </tr>\n",
       "    <tr>\n",
       "      <td>1</td>\n",
       "      <td>0.1</td>\n",
       "      <td>0.460172</td>\n",
       "    </tr>\n",
       "    <tr>\n",
       "      <td>2</td>\n",
       "      <td>0.2</td>\n",
       "      <td>0.420740</td>\n",
       "    </tr>\n",
       "    <tr>\n",
       "      <td>3</td>\n",
       "      <td>0.3</td>\n",
       "      <td>0.382089</td>\n",
       "    </tr>\n",
       "    <tr>\n",
       "      <td>4</td>\n",
       "      <td>0.4</td>\n",
       "      <td>0.344578</td>\n",
       "    </tr>\n",
       "    <tr>\n",
       "      <td>5</td>\n",
       "      <td>0.5</td>\n",
       "      <td>0.308538</td>\n",
       "    </tr>\n",
       "    <tr>\n",
       "      <td>6</td>\n",
       "      <td>0.6</td>\n",
       "      <td>0.274253</td>\n",
       "    </tr>\n",
       "    <tr>\n",
       "      <td>7</td>\n",
       "      <td>0.7</td>\n",
       "      <td>0.241964</td>\n",
       "    </tr>\n",
       "    <tr>\n",
       "      <td>8</td>\n",
       "      <td>0.8</td>\n",
       "      <td>0.211855</td>\n",
       "    </tr>\n",
       "    <tr>\n",
       "      <td>9</td>\n",
       "      <td>0.9</td>\n",
       "      <td>0.184060</td>\n",
       "    </tr>\n",
       "    <tr>\n",
       "      <td>10</td>\n",
       "      <td>1.0</td>\n",
       "      <td>0.158655</td>\n",
       "    </tr>\n",
       "    <tr>\n",
       "      <td>11</td>\n",
       "      <td>1.1</td>\n",
       "      <td>0.135666</td>\n",
       "    </tr>\n",
       "    <tr>\n",
       "      <td>12</td>\n",
       "      <td>1.2</td>\n",
       "      <td>0.115070</td>\n",
       "    </tr>\n",
       "    <tr>\n",
       "      <td>13</td>\n",
       "      <td>1.3</td>\n",
       "      <td>0.096800</td>\n",
       "    </tr>\n",
       "    <tr>\n",
       "      <td>14</td>\n",
       "      <td>1.4</td>\n",
       "      <td>0.080757</td>\n",
       "    </tr>\n",
       "    <tr>\n",
       "      <td>15</td>\n",
       "      <td>1.5</td>\n",
       "      <td>0.066807</td>\n",
       "    </tr>\n",
       "    <tr>\n",
       "      <td>16</td>\n",
       "      <td>1.6</td>\n",
       "      <td>0.054799</td>\n",
       "    </tr>\n",
       "    <tr>\n",
       "      <td>17</td>\n",
       "      <td>1.7</td>\n",
       "      <td>0.044565</td>\n",
       "    </tr>\n",
       "    <tr>\n",
       "      <td>18</td>\n",
       "      <td>1.8</td>\n",
       "      <td>0.035930</td>\n",
       "    </tr>\n",
       "    <tr>\n",
       "      <td>19</td>\n",
       "      <td>1.9</td>\n",
       "      <td>0.028717</td>\n",
       "    </tr>\n",
       "    <tr>\n",
       "      <td>20</td>\n",
       "      <td>2.0</td>\n",
       "      <td>0.022750</td>\n",
       "    </tr>\n",
       "  </tbody>\n",
       "</table>\n",
       "</div>"
      ],
      "text/plain": [
       "    X$\\sigma$  Probability\n",
       "0         0.0     0.500000\n",
       "1         0.1     0.460172\n",
       "2         0.2     0.420740\n",
       "3         0.3     0.382089\n",
       "4         0.4     0.344578\n",
       "5         0.5     0.308538\n",
       "6         0.6     0.274253\n",
       "7         0.7     0.241964\n",
       "8         0.8     0.211855\n",
       "9         0.9     0.184060\n",
       "10        1.0     0.158655\n",
       "11        1.1     0.135666\n",
       "12        1.2     0.115070\n",
       "13        1.3     0.096800\n",
       "14        1.4     0.080757\n",
       "15        1.5     0.066807\n",
       "16        1.6     0.054799\n",
       "17        1.7     0.044565\n",
       "18        1.8     0.035930\n",
       "19        1.9     0.028717\n",
       "20        2.0     0.022750"
      ]
     },
     "execution_count": 2,
     "metadata": {},
     "output_type": "execute_result"
    }
   ],
   "source": [
    "sigmas = []\n",
    "ps = []\n",
    "for x in range(21):\n",
    "    sigmas.append(x/10) \n",
    "    p = 0.5 * special.erfc(sigmas[-1]/np.sqrt(2))\n",
    "    ps.append(p)\n",
    "prob = pd.DataFrame({\n",
    "    'X$\\sigma$':sigmas,\n",
    "    'Probability':ps\n",
    "})\n",
    "prob"
   ]
  },
  {
   "cell_type": "markdown",
   "metadata": {},
   "source": [
    "## 1.C"
   ]
  },
  {
   "cell_type": "code",
   "execution_count": 3,
   "metadata": {},
   "outputs": [
    {
     "data": {
      "text/html": [
       "<div>\n",
       "<style scoped>\n",
       "    .dataframe tbody tr th:only-of-type {\n",
       "        vertical-align: middle;\n",
       "    }\n",
       "\n",
       "    .dataframe tbody tr th {\n",
       "        vertical-align: top;\n",
       "    }\n",
       "\n",
       "    .dataframe thead th {\n",
       "        text-align: right;\n",
       "    }\n",
       "</style>\n",
       "<table border=\"1\" class=\"dataframe\">\n",
       "  <thead>\n",
       "    <tr style=\"text-align: right;\">\n",
       "      <th></th>\n",
       "      <th>Probability</th>\n",
       "      <th>$X\\sigma$</th>\n",
       "    </tr>\n",
       "  </thead>\n",
       "  <tbody>\n",
       "    <tr>\n",
       "      <td>0</td>\n",
       "      <td>0.500000</td>\n",
       "      <td>0.0</td>\n",
       "    </tr>\n",
       "    <tr>\n",
       "      <td>1</td>\n",
       "      <td>0.460172</td>\n",
       "      <td>-0.1</td>\n",
       "    </tr>\n",
       "    <tr>\n",
       "      <td>2</td>\n",
       "      <td>0.420740</td>\n",
       "      <td>-0.2</td>\n",
       "    </tr>\n",
       "    <tr>\n",
       "      <td>3</td>\n",
       "      <td>0.382089</td>\n",
       "      <td>-0.3</td>\n",
       "    </tr>\n",
       "    <tr>\n",
       "      <td>4</td>\n",
       "      <td>0.344578</td>\n",
       "      <td>-0.4</td>\n",
       "    </tr>\n",
       "    <tr>\n",
       "      <td>5</td>\n",
       "      <td>0.308538</td>\n",
       "      <td>-0.5</td>\n",
       "    </tr>\n",
       "    <tr>\n",
       "      <td>6</td>\n",
       "      <td>0.274253</td>\n",
       "      <td>-0.6</td>\n",
       "    </tr>\n",
       "    <tr>\n",
       "      <td>7</td>\n",
       "      <td>0.241964</td>\n",
       "      <td>-0.7</td>\n",
       "    </tr>\n",
       "    <tr>\n",
       "      <td>8</td>\n",
       "      <td>0.211855</td>\n",
       "      <td>-0.8</td>\n",
       "    </tr>\n",
       "    <tr>\n",
       "      <td>9</td>\n",
       "      <td>0.184060</td>\n",
       "      <td>-0.9</td>\n",
       "    </tr>\n",
       "    <tr>\n",
       "      <td>10</td>\n",
       "      <td>0.158655</td>\n",
       "      <td>-1.0</td>\n",
       "    </tr>\n",
       "    <tr>\n",
       "      <td>11</td>\n",
       "      <td>0.135666</td>\n",
       "      <td>-1.1</td>\n",
       "    </tr>\n",
       "    <tr>\n",
       "      <td>12</td>\n",
       "      <td>0.115070</td>\n",
       "      <td>-1.2</td>\n",
       "    </tr>\n",
       "    <tr>\n",
       "      <td>13</td>\n",
       "      <td>0.096800</td>\n",
       "      <td>-1.3</td>\n",
       "    </tr>\n",
       "    <tr>\n",
       "      <td>14</td>\n",
       "      <td>0.080757</td>\n",
       "      <td>-1.4</td>\n",
       "    </tr>\n",
       "    <tr>\n",
       "      <td>15</td>\n",
       "      <td>0.066807</td>\n",
       "      <td>-1.5</td>\n",
       "    </tr>\n",
       "    <tr>\n",
       "      <td>16</td>\n",
       "      <td>0.054799</td>\n",
       "      <td>-1.6</td>\n",
       "    </tr>\n",
       "    <tr>\n",
       "      <td>17</td>\n",
       "      <td>0.044565</td>\n",
       "      <td>-1.7</td>\n",
       "    </tr>\n",
       "    <tr>\n",
       "      <td>18</td>\n",
       "      <td>0.035930</td>\n",
       "      <td>-1.8</td>\n",
       "    </tr>\n",
       "    <tr>\n",
       "      <td>19</td>\n",
       "      <td>0.028717</td>\n",
       "      <td>-1.9</td>\n",
       "    </tr>\n",
       "    <tr>\n",
       "      <td>20</td>\n",
       "      <td>0.022750</td>\n",
       "      <td>-2.0</td>\n",
       "    </tr>\n",
       "  </tbody>\n",
       "</table>\n",
       "</div>"
      ],
      "text/plain": [
       "    Probability  $X\\sigma$\n",
       "0      0.500000        0.0\n",
       "1      0.460172       -0.1\n",
       "2      0.420740       -0.2\n",
       "3      0.382089       -0.3\n",
       "4      0.344578       -0.4\n",
       "5      0.308538       -0.5\n",
       "6      0.274253       -0.6\n",
       "7      0.241964       -0.7\n",
       "8      0.211855       -0.8\n",
       "9      0.184060       -0.9\n",
       "10     0.158655       -1.0\n",
       "11     0.135666       -1.1\n",
       "12     0.115070       -1.2\n",
       "13     0.096800       -1.3\n",
       "14     0.080757       -1.4\n",
       "15     0.066807       -1.5\n",
       "16     0.054799       -1.6\n",
       "17     0.044565       -1.7\n",
       "18     0.035930       -1.8\n",
       "19     0.028717       -1.9\n",
       "20     0.022750       -2.0"
      ]
     },
     "execution_count": 3,
     "metadata": {},
     "output_type": "execute_result"
    }
   ],
   "source": [
    "s = []\n",
    "for p in ps:\n",
    "    s.append(np.round(stats.norm.ppf(p), decimals=1))\n",
    "sigma = pd.DataFrame({\n",
    "    'Probability':ps,\n",
    "    '$X\\sigma$': s\n",
    "})\n",
    "sigma"
   ]
  },
  {
   "cell_type": "markdown",
   "metadata": {},
   "source": [
    "## 1.D"
   ]
  },
  {
   "cell_type": "markdown",
   "metadata": {},
   "source": [
    "The cumulative distribution function $cdf(X\\sigma)$ gives you the probability that a measurement is less than or equal to $X\\sigma$--i.e., to the left of $X\\sigma$. However, we calculated the probability that the measurement is greater than or equal to $X\\sigma$--i.e., to the right of $X\\sigma$. Since the normal distribution is symmetrical, the probability to the right of $X\\sigma$ is equal to the probability to the left of $-X\\sigma$. Therefore, when we fed our probabilities into the $ppf()$ function, we essentially gave it the argument $cdf(-X\\sigma)$. Since these two functions are inverses of each other, $ppf(cdf(-X\\sigma))$ returns $-X\\sigma$."
   ]
  },
  {
   "cell_type": "markdown",
   "metadata": {},
   "source": [
    "## 2.A\n",
    "### The Chi-Squared Distribution\n",
    "The chi-squared distribution is has a parameter $k$, defined as the number of degrees of freedom. It is the distribution of the sum of the squared of $k$ independent random variables and has the following PDF: $$P_k(x)=\\frac{x^{\\frac{k}{2}-1}e^{-\\frac{x}{2}}}{2^{\\frac{k}{2}}\\Gamma\\left(\\frac{k}{2}\\right)},$$ with $\\mu=k$ and $\\sigma=2k$. It is used to test for statistical independence and line fitting."
   ]
  },
  {
   "cell_type": "markdown",
   "metadata": {},
   "source": [
    "## 2.B"
   ]
  },
  {
   "cell_type": "code",
   "execution_count": 4,
   "metadata": {},
   "outputs": [
    {
     "data": {
      "image/png": "[encoded data removed]",
      "text/plain": [
       "<Figure size 432x288 with 1 Axes>"
      ]
     },
     "metadata": {
      "needs_background": "light"
     },
     "output_type": "display_data"
    }
   ],
   "source": [
    "d = stats.chi2.rvs(3, size = 100000)\n",
    "fig, ax = plt.subplots(1,1)\n",
    "ax.hist(d,50,density=True)\n",
    "plt.tick_params(labelsize=16)\n",
    "plt.xlim([0.00,20.0])\n",
    "x = np.linspace(0.00,20.0,1000)\n",
    "ax.plot(x,stats.chi2.pdf(x,3),linewidth=5,alpha=0.9)\n",
    "ax.set_ylabel('Probability Density',size=16)\n",
    "ax.set_xlabel('x',size=16)\n",
    "plt.show()"
   ]
  },
  {
   "cell_type": "markdown",
   "metadata": {},
   "source": [
    "## 3.B\n",
    "What is the probability that a measurement is the result of background?"
   ]
  },
  {
   "cell_type": "markdown",
   "metadata": {},
   "source": [
    "## 3.C\n",
    "$$P(13) = \\frac{1}{2^{3/2}\\Gamma(3/2)}\\int_{13}^\\infty x^{1/2}e^{-x/2}dx$$"
   ]
  },
  {
   "cell_type": "markdown",
   "metadata": {},
   "source": [
    "## 3.D"
   ]
  },
  {
   "cell_type": "code",
   "execution_count": 5,
   "metadata": {},
   "outputs": [
    {
     "name": "stdout",
     "output_type": "stream",
     "text": [
      "The probability that 13 was the result of background is 0.004636605438041674.\n"
     ]
    }
   ],
   "source": [
    "val = 13\n",
    "p = 1 - stats.chi2.cdf(13,3)\n",
    "print(f'The probability that {val} was the result of background is {p}.')"
   ]
  },
  {
   "cell_type": "markdown",
   "metadata": {},
   "source": [
    "## 3.E"
   ]
  },
  {
   "cell_type": "code",
   "execution_count": 6,
   "metadata": {},
   "outputs": [
    {
     "name": "stdout",
     "output_type": "stream",
     "text": [
      "The 'sigma' associated with this probability is 0.06815470764508418.\n"
     ]
    }
   ],
   "source": [
    "print(f'The \\'sigma\\' associated with this probability is {stats.chi2.ppf(p,3)}.')"
   ]
  },
  {
   "cell_type": "markdown",
   "metadata": {},
   "source": [
    "## 4"
   ]
  },
  {
   "cell_type": "code",
   "execution_count": 7,
   "metadata": {},
   "outputs": [
    {
     "data": {
      "image/png": "[encoded data removed]",
      "text/plain": [
       "<Figure size 1080x216 with 2 Axes>"
      ]
     },
     "metadata": {
      "needs_background": "light"
     },
     "output_type": "display_data"
    }
   ],
   "source": [
    "fig,ax = plt.subplots(1,2,figsize=(15, 3))\n",
    "x = np.linspace(0,20,1000)\n",
    "x_ppf = np.linspace(0,1,1000)\n",
    "\n",
    "ax[0].plot(x,stats.chi2.pdf(x,3))\n",
    "ax[0].set_title('Chi-squared PDF (k=3)')\n",
    "ax[0].set_xlabel('$x$')\n",
    "ax[0].set_ylabel('Probability Density')\n",
    "\n",
    "ax[1].plot(x,1 - stats.chi2.cdf(x,3))\n",
    "ax[1].set_title('1 - Chi-squared CDF (k=3)')\n",
    "ax[1].set_xlabel('$x$')\n",
    "ax[1].set_ylabel('Probability')\n",
    "plt.show()"
   ]
  },
  {
   "cell_type": "code",
   "execution_count": 8,
   "metadata": {},
   "outputs": [
    {
     "data": {
      "text/html": [
       "<div>\n",
       "<style scoped>\n",
       "    .dataframe tbody tr th:only-of-type {\n",
       "        vertical-align: middle;\n",
       "    }\n",
       "\n",
       "    .dataframe tbody tr th {\n",
       "        vertical-align: top;\n",
       "    }\n",
       "\n",
       "    .dataframe thead th {\n",
       "        text-align: right;\n",
       "    }\n",
       "</style>\n",
       "<table border=\"1\" class=\"dataframe\">\n",
       "  <thead>\n",
       "    <tr style=\"text-align: right;\">\n",
       "      <th></th>\n",
       "      <th>Measurement</th>\n",
       "      <th>Probability</th>\n",
       "      <th>$X\\sigma$</th>\n",
       "    </tr>\n",
       "  </thead>\n",
       "  <tbody>\n",
       "    <tr>\n",
       "      <td>0</td>\n",
       "      <td>0.694559</td>\n",
       "      <td>0.874483</td>\n",
       "      <td>5.729894</td>\n",
       "    </tr>\n",
       "    <tr>\n",
       "      <td>1</td>\n",
       "      <td>1.118279</td>\n",
       "      <td>0.772663</td>\n",
       "      <td>4.336600</td>\n",
       "    </tr>\n",
       "    <tr>\n",
       "      <td>2</td>\n",
       "      <td>1.372850</td>\n",
       "      <td>0.711911</td>\n",
       "      <td>3.764104</td>\n",
       "    </tr>\n",
       "    <tr>\n",
       "      <td>3</td>\n",
       "      <td>2.333661</td>\n",
       "      <td>0.506103</td>\n",
       "      <td>2.398591</td>\n",
       "    </tr>\n",
       "    <tr>\n",
       "      <td>4</td>\n",
       "      <td>2.429680</td>\n",
       "      <td>0.488134</td>\n",
       "      <td>2.303418</td>\n",
       "    </tr>\n",
       "    <tr>\n",
       "      <td>5</td>\n",
       "      <td>4.217892</td>\n",
       "      <td>0.238877</td>\n",
       "      <td>1.166194</td>\n",
       "    </tr>\n",
       "    <tr>\n",
       "      <td>6</td>\n",
       "      <td>10.153413</td>\n",
       "      <td>0.017306</td>\n",
       "      <td>0.167255</td>\n",
       "    </tr>\n",
       "    <tr>\n",
       "      <td>7</td>\n",
       "      <td>11.457301</td>\n",
       "      <td>0.009493</td>\n",
       "      <td>0.110832</td>\n",
       "    </tr>\n",
       "    <tr>\n",
       "      <td>8</td>\n",
       "      <td>14.800991</td>\n",
       "      <td>0.001995</td>\n",
       "      <td>0.038614</td>\n",
       "    </tr>\n",
       "    <tr>\n",
       "      <td>9</td>\n",
       "      <td>14.952356</td>\n",
       "      <td>0.001858</td>\n",
       "      <td>0.036812</td>\n",
       "    </tr>\n",
       "  </tbody>\n",
       "</table>\n",
       "</div>"
      ],
      "text/plain": [
       "   Measurement  Probability  $X\\sigma$\n",
       "0     0.694559     0.874483   5.729894\n",
       "1     1.118279     0.772663   4.336600\n",
       "2     1.372850     0.711911   3.764104\n",
       "3     2.333661     0.506103   2.398591\n",
       "4     2.429680     0.488134   2.303418\n",
       "5     4.217892     0.238877   1.166194\n",
       "6    10.153413     0.017306   0.167255\n",
       "7    11.457301     0.009493   0.110832\n",
       "8    14.800991     0.001995   0.038614\n",
       "9    14.952356     0.001858   0.036812"
      ]
     },
     "execution_count": 8,
     "metadata": {},
     "output_type": "execute_result"
    }
   ],
   "source": [
    "measurements = np.sort(np.random.random(10)*15)\n",
    "probabilities = []\n",
    "sigmas = []\n",
    "for m in measurements:\n",
    "    probabilities.append(1 - stats.chi2.cdf(m,3))\n",
    "    sigmas.append(stats.chi2.ppf(probabilities[-1],3))\n",
    "data = pd.DataFrame({\n",
    "    'Measurement': measurements,\n",
    "    'Probability': probabilities,\n",
    "    '$X\\sigma$': sigmas\n",
    "})\n",
    "data"
   ]
  },
  {
   "cell_type": "markdown",
   "metadata": {},
   "source": [
    "As the value of the measurement increases, the probability of it being the result of background decreases, as does the 'sigma'."
   ]
  },
  {
   "cell_type": "markdown",
   "metadata": {},
   "source": [
    "# Non-continuous Distributions"
   ]
  },
  {
   "cell_type": "markdown",
   "metadata": {},
   "source": [
    "## 1.A\n",
    "### The Binomial Distribution\n",
    "The binomial distribution is a discrete probability distribution with parameters $n$ and $p$. It is used to determine the probability of an experiment being successful $k$ times out of $n$ given a probability of success $p$ for each independent experiment. It has $\\mu=np$ and $\\sigma=np(1-p)$."
   ]
  },
  {
   "cell_type": "markdown",
   "metadata": {},
   "source": [
    "## 1.B"
   ]
  },
  {
   "cell_type": "code",
   "execution_count": 9,
   "metadata": {},
   "outputs": [
    {
     "data": {
      "image/png": "[encoded data removed]",
      "text/plain": [
       "<Figure size 864x864 with 4 Axes>"
      ]
     },
     "metadata": {
      "needs_background": "light"
     },
     "output_type": "display_data"
    }
   ],
   "source": [
    "fig,ax = plt.subplots(2,2,figsize=(12,12))\n",
    "fig.suptitle('Binomial Distribution PMFs', fontsize=24)\n",
    "c = 0\n",
    "for i in range(1,3):\n",
    "    for j in range(1,3):\n",
    "        n = np.random.randint(10,50)\n",
    "        p = np.random.random(1)[0]\n",
    "        x = np.arange(stats.binom.ppf(0.01,n,p),stats.binom.ppf(0.99,n,p))\n",
    "        ax[i-1,j-1].set_title(f'n={n}, p={np.round(p,decimals=3)}',size=18)\n",
    "        ax[i-1,j-1].set_ylabel('Probability',size=16)\n",
    "        ax[i-1,j-1].set_xlabel('k',size=16)\n",
    "        ax[i-1,j-1].stem(x,stats.binom.pmf(x,n,p),f'C{c}-',f'C{c}o',basefmt='w',use_line_collection=True)\n",
    "        c+=1\n",
    "plt.show()"
   ]
  },
  {
   "cell_type": "markdown",
   "metadata": {},
   "source": [
    "The binomial distribution function has parameters $n$, which represents the number of independent observations to be made, and $p$, which represents the probability that a particular observation will be succcessful."
   ]
  },
  {
   "cell_type": "markdown",
   "metadata": {},
   "source": [
    "## 1.C\n",
    "Given $n$ experiments, each with a probability $p$ of success, what is the probability that a total of $k$ of them will be successful?\n",
    "\n",
    "If there are $n$ total experiments, and $k$ of them are successful, then $n-k$ of them are not, and if the probability of success is $p$, then the probability of failure is $(1-p)$. Therefore, the probability of getting $k$ successful outcomes is $$p^k(1-p)^{n-k}.$$\n",
    "\n",
    "But there are also multiple ways to get $k$ successful outcomes, so we need to multiply this probability by the binomial coefficient ${n\\choose k}$ which gives the number of ways of getting $k$ successes. Therefore, the probability $k$ experiments out of $n$ being successful is given by the probability mass function $$f(k,n,p)={n\\choose k}p^k(1-p)^{n-k}.$$ "
   ]
  },
  {
   "cell_type": "markdown",
   "metadata": {},
   "source": [
    "## 1.D\n",
    "A continuous probability distribution carries an inherent uncertainty due to the fact that we can only determine the probability that a random continuous variable will be within a certain range, not the probability that a random continuous variable will be a specific value. With a discrete distribution each possible value of a random discrete variable has a definite probability."
   ]
  },
  {
   "cell_type": "markdown",
   "metadata": {},
   "source": [
    "## 1.E"
   ]
  },
  {
   "cell_type": "markdown",
   "metadata": {},
   "source": [
    "In a binomial distribution the probability that $k$ out of $n$ experiments will be succcessful is discrete. However, the probability $p$ that a single independent experiment will be successful is continuous. Therefore $\\mu=np$ and $\\sigma=np(1-p)$ are also continuous."
   ]
  }
 ],
 "metadata": {
  "kernelspec": {
   "display_name": "Python 3",
   "language": "python",
   "name": "python3"
  },
  "language_info": {
   "codemirror_mode": {
    "name": "ipython",
    "version": 3
   },
   "file_extension": ".py",
   "mimetype": "text/x-python",
   "name": "python",
   "nbconvert_exporter": "python",
   "pygments_lexer": "ipython3",
   "version": "3.7.4"
  }
 },
 "nbformat": 4,
 "nbformat_minor": 2
}
